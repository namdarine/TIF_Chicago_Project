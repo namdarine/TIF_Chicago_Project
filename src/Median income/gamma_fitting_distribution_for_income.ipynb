{
 "cells": [
  {
   "cell_type": "code",
   "execution_count": 2,
   "metadata": {},
   "outputs": [],
   "source": [
    "import pickle\n",
    "from matplotlib import pyplot as plt\n",
    "import numpy as np\n",
    "from scipy.optimize import curve_fit\n",
    "import pandas as pd\n",
    "from scipy.stats import gamma"
   ]
  },
  {
   "cell_type": "code",
   "execution_count": 3,
   "metadata": {},
   "outputs": [],
   "source": [
    "path = '/Users/kunwoosmac/Library/Mobile Documents/com~apple~CloudDocs/Python Workspace/IIT Courses/TIF DS Project/Final/data/'\n",
    "\n",
    "with open(path + 'community_area_income_range_TIF_2018.pickle', 'rb') as file:\n",
    "    data = pickle.load(file)"
   ]
  },
  {
   "cell_type": "markdown",
   "metadata": {},
   "source": [
    "# First, check how the income distribution will look like"
   ]
  },
  {
   "cell_type": "code",
   "execution_count": 4,
   "metadata": {},
   "outputs": [],
   "source": [
    "data.head(3)\n",
    "\n",
    "comm_income = data[data['Community'] == 'DOUGLAS']"
   ]
  },
  {
   "cell_type": "code",
   "execution_count": 5,
   "metadata": {},
   "outputs": [
    {
     "data": {
      "text/html": [
       "<div>\n",
       "<style scoped>\n",
       "    .dataframe tbody tr th:only-of-type {\n",
       "        vertical-align: middle;\n",
       "    }\n",
       "\n",
       "    .dataframe tbody tr th {\n",
       "        vertical-align: top;\n",
       "    }\n",
       "\n",
       "    .dataframe thead th {\n",
       "        text-align: right;\n",
       "    }\n",
       "</style>\n",
       "<table border=\"1\" class=\"dataframe\">\n",
       "  <thead>\n",
       "    <tr style=\"text-align: right;\">\n",
       "      <th></th>\n",
       "      <th>Community</th>\n",
       "      <th>Less than $10,000</th>\n",
       "      <th>$10,000 to $14,999</th>\n",
       "      <th>$15,000 to $19,999</th>\n",
       "      <th>$20,000 to $24,999</th>\n",
       "      <th>$25,000 to $29,999</th>\n",
       "      <th>$30,000 to $34,999</th>\n",
       "      <th>$35,000 to $39,999</th>\n",
       "      <th>$40,000 to $44,999</th>\n",
       "      <th>$45,000 to $49,999</th>\n",
       "      <th>$50,000 to $59,999</th>\n",
       "      <th>$60,000 to $74,999</th>\n",
       "      <th>$75,000 to $99,999</th>\n",
       "      <th>$100,000 to $124,999</th>\n",
       "      <th>$125,000 to $149,999</th>\n",
       "      <th>$150,000 to $199,999</th>\n",
       "      <th>$200,000 or more</th>\n",
       "    </tr>\n",
       "  </thead>\n",
       "  <tbody>\n",
       "    <tr>\n",
       "      <th>0</th>\n",
       "      <td>DOUGLAS</td>\n",
       "      <td>[57.40762451509675, 713.9492848073397, 15.2827...</td>\n",
       "      <td>[21.994821804552224, 344.3948783534142, 6.1836...</td>\n",
       "      <td>[21.20884558653767, 260.9847233860535, 5.67753...</td>\n",
       "      <td>[12.67804685165525, 173.07105729535277, 3.8282...</td>\n",
       "      <td>[10.601890832255776, 186.0949672337926, 3.2029...</td>\n",
       "      <td>[22.27576018598534, 202.61396595292337, 5.9111...</td>\n",
       "      <td>[6.135737068749961, 80.9013339043529, 2.196361...</td>\n",
       "      <td>[9.357099968341611, 135.6478441004492, 3.38378...</td>\n",
       "      <td>[11.52128493593525, 135.29082706287335, 3.7358...</td>\n",
       "      <td>[15.985779827622741, 177.40539748771045, 4.221...</td>\n",
       "      <td>[24.301013111731134, 225.22877996566703, 6.598...</td>\n",
       "      <td>[22.428833875895542, 228.9486261287551, 6.2915...</td>\n",
       "      <td>[20.885460459098002, 179.67004926449607, 5.197...</td>\n",
       "      <td>[8.829626575174162, 94.1448950959203, 2.586054...</td>\n",
       "      <td>[9.739398566605601, 81.74179114754355, 2.86381...</td>\n",
       "      <td>[12.487788819861139, 78.76708851312921, 2.4723...</td>\n",
       "    </tr>\n",
       "  </tbody>\n",
       "</table>\n",
       "</div>"
      ],
      "text/plain": [
       "  Community                                  Less than $10,000  \\\n",
       "0   DOUGLAS  [57.40762451509675, 713.9492848073397, 15.2827...   \n",
       "\n",
       "                                  $10,000 to $14,999  \\\n",
       "0  [21.994821804552224, 344.3948783534142, 6.1836...   \n",
       "\n",
       "                                  $15,000 to $19,999  \\\n",
       "0  [21.20884558653767, 260.9847233860535, 5.67753...   \n",
       "\n",
       "                                  $20,000 to $24,999  \\\n",
       "0  [12.67804685165525, 173.07105729535277, 3.8282...   \n",
       "\n",
       "                                  $25,000 to $29,999  \\\n",
       "0  [10.601890832255776, 186.0949672337926, 3.2029...   \n",
       "\n",
       "                                  $30,000 to $34,999  \\\n",
       "0  [22.27576018598534, 202.61396595292337, 5.9111...   \n",
       "\n",
       "                                  $35,000 to $39,999  \\\n",
       "0  [6.135737068749961, 80.9013339043529, 2.196361...   \n",
       "\n",
       "                                  $40,000 to $44,999  \\\n",
       "0  [9.357099968341611, 135.6478441004492, 3.38378...   \n",
       "\n",
       "                                  $45,000 to $49,999  \\\n",
       "0  [11.52128493593525, 135.29082706287335, 3.7358...   \n",
       "\n",
       "                                  $50,000 to $59,999  \\\n",
       "0  [15.985779827622741, 177.40539748771045, 4.221...   \n",
       "\n",
       "                                  $60,000 to $74,999  \\\n",
       "0  [24.301013111731134, 225.22877996566703, 6.598...   \n",
       "\n",
       "                                  $75,000 to $99,999  \\\n",
       "0  [22.428833875895542, 228.9486261287551, 6.2915...   \n",
       "\n",
       "                                $100,000 to $124,999  \\\n",
       "0  [20.885460459098002, 179.67004926449607, 5.197...   \n",
       "\n",
       "                                $125,000 to $149,999  \\\n",
       "0  [8.829626575174162, 94.1448950959203, 2.586054...   \n",
       "\n",
       "                                $150,000 to $199,999  \\\n",
       "0  [9.739398566605601, 81.74179114754355, 2.86381...   \n",
       "\n",
       "                                    $200,000 or more  \n",
       "0  [12.487788819861139, 78.76708851312921, 2.4723...  "
      ]
     },
     "execution_count": 5,
     "metadata": {},
     "output_type": "execute_result"
    }
   ],
   "source": [
    "comm_income"
   ]
  },
  {
   "cell_type": "code",
   "execution_count": 6,
   "metadata": {},
   "outputs": [
    {
     "data": {
      "text/plain": [
       "'Community'"
      ]
     },
     "execution_count": 6,
     "metadata": {},
     "output_type": "execute_result"
    }
   ],
   "source": [
    "col_names = list(data.columns)\n",
    "col_names.pop(0)"
   ]
  },
  {
   "cell_type": "code",
   "execution_count": 9,
   "metadata": {},
   "outputs": [
    {
     "data": {
      "image/png": "[encoded data removed]",
      "text/plain": [
       "<Figure size 1440x504 with 3 Axes>"
      ]
     },
     "metadata": {
      "needs_background": "light"
     },
     "output_type": "display_data"
    }
   ],
   "source": [
    "ranges = [10000, 14999, 19999, 24999, 29999, 34999, 39999, 44999, 49999, 59999, 74999, 99999, 124999, 149999, 199999, np.inf]\n",
    "\n",
    "# obtain percentage of population under the income in list 'ranges'\n",
    "\n",
    "W_list = []; B_list = []; L_list = []\n",
    "\n",
    "for col in col_names:\n",
    "    W_list.append(comm_income[col][0][0])\n",
    "    B_list.append(comm_income[col][0][1])\n",
    "    L_list.append(comm_income[col][0][2])\n",
    "\n",
    "W_list = np.array(W_list); B_list = np.array(B_list); L_list = np.array(L_list)\n",
    "\n",
    "fig, ax = plt.subplots(1, 3, figsize = (20,7))\n",
    "\n",
    "ax[0].scatter(ranges, W_list)\n",
    "ax[0].set_title(\"White Population Income Distribution in Douglas\")\n",
    "ax[1].scatter(ranges, B_list)\n",
    "ax[1].set_title(\"Black Population Income Distribution in Douglas\")\n",
    "ax[2].scatter(ranges, L_list)\n",
    "ax[2].set_title(\"Latino Population Income Distribution in Douglas\")\n",
    "plt.savefig(\"Median Income Scatter.png\")\n",
    "# Let's go with the exponential distribution"
   ]
  },
  {
   "cell_type": "markdown",
   "metadata": {},
   "source": [
    "# Gamma distribution seems to fit well. Perform curvefitting using cumulative gamma distribution"
   ]
  },
  {
   "cell_type": "code",
   "execution_count": 31,
   "metadata": {},
   "outputs": [],
   "source": [
    "W_percentage = W_list/np.sum(W_list); B_percentage = B_list/np.sum(B_list); L_percentage = L_list/np.sum(L_list)\n",
    "\n",
    "W_cumulative_percentage = np.array([np.sum(W_percentage[:i+1]) for i in range(len(W_percentage))])\n",
    "B_cumulative_percentage = np.array([np.sum(B_percentage[:i+1]) for i in range(len(B_percentage))])\n",
    "L_cumulative_percentage = np.array([np.sum(L_percentage[:i+1]) for i in range(len(L_percentage))])"
   ]
  },
  {
   "cell_type": "markdown",
   "metadata": {},
   "source": [
    "### test on one case"
   ]
  },
  {
   "cell_type": "code",
   "execution_count": 32,
   "metadata": {},
   "outputs": [
    {
     "name": "stdout",
     "output_type": "stream",
     "text": [
      "lambda = 0.5232071987623983, CoD = 0.9434521605669437\n",
      "Median = $261711.50448756752\n"
     ]
    },
    {
     "data": {
      "image/png": "[encoded data removed]",
      "text/plain": [
       "<Figure size 432x288 with 1 Axes>"
      ]
     },
     "metadata": {
      "needs_background": "light"
     },
     "output_type": "display_data"
    }
   ],
   "source": [
    "def cumulative_gamma_dist(x, shape, scale):\n",
    "    return gamma.cdf(x, shape, scale=scale)\n",
    "\n",
    "# define new range array to perform curve fitting. Last element is not needed. Also, scale into 0-1 value.\n",
    "cf_ranges = (np.array(ranges[:-1]) - ranges[0]) / (ranges[-2] - ranges[0])\n",
    "\n",
    "pars, cov = curve_fit(f = cumulative_gamma_dist, xdata = cf_ranges, ydata = W_cumulative_percentage[:-1], bounds = (-np.inf, np.inf))\n",
    "plt.plot(cf_ranges, W_cumulative_percentage[:-1])\n",
    "plt.plot(cf_ranges, cumulative_gamma_dist(cf_ranges, pars[0], pars[1]), color='red')\n",
    "\n",
    "def Coef_of_Determination(y_data, y_pred):\n",
    "\n",
    "    y_mean = np.mean(y_data)\n",
    "\n",
    "    # Calculate the total sum of squares (TSS)\n",
    "    TSS = np.sum((y_data - y_mean) ** 2)\n",
    "\n",
    "    # Calculate the residual sum of squares (RSS)\n",
    "    RSS = np.sum((y_data - y_pred) ** 2)\n",
    "\n",
    "    # Calculate the coefficient of determination (R^2)\n",
    "    R_squared = 1 - (RSS / TSS)\n",
    "\n",
    "    return R_squared\n",
    "\n",
    "print(f'pars = {pars[0], pars[1]}, CoD = {Coef_of_Determination(W_cumulative_percentage[:-1], cumulative_gamma_dist(cf_ranges, pars[0], pars[1]))}')\n",
    "print('Median = ${}'.format((np.log(2)/pars[0])*(ranges[-2] - ranges[0]) + ranges[0]))\n"
   ]
  },
  {
   "cell_type": "markdown",
   "metadata": {},
   "source": [
    "# Now, iterate for everything"
   ]
  },
  {
   "cell_type": "code",
   "execution_count": 44,
   "metadata": {},
   "outputs": [],
   "source": [
    "communities = np.array(data['Community'])\n",
    "col_names = list(data.columns)\n",
    "col_names.pop(0)\n",
    "\n",
    "def cumulative_gamma_dist(x, shape, scale):\n",
    "    return gamma.cdf(x, shape, scale=scale)\n",
    "\n",
    "def Coef_of_Determination(y_data, y_pred):\n",
    "\n",
    "    y_mean = np.mean(y_data)\n",
    "\n",
    "    # Calculate the total sum of squares (TSS)\n",
    "    TSS = np.sum((y_data - y_mean) ** 2)\n",
    "\n",
    "    # Calculate the residual sum of squares (RSS)\n",
    "    RSS = np.sum((y_data - y_pred) ** 2)\n",
    "\n",
    "    # Calculate the coefficient of determination (R^2)\n",
    "    R_squared = 1 - (RSS / TSS)\n",
    "\n",
    "    return R_squared\n",
    "\n",
    "median_incomes_list = []\n",
    "CoD_list = []\n",
    "\n",
    "ranges = [10000, 14999, 19999, 24999, 29999, 34999, 39999, 44999, 49999, 59999, 74999, 99999, 124999, 149999, 199999, np.inf]\n",
    "cf_ranges = (np.array(ranges[:-1]) - ranges[0]) / (ranges[-2] - ranges[0])\n",
    "\n",
    "\n",
    "for community in communities:\n",
    "    comm_income = data[data['Community'] == community]\n",
    "\n",
    "\n",
    "    # obtain percentage of population under the income in list 'ranges'\n",
    "    W_list = []; B_list = []; L_list = []\n",
    "\n",
    "    for col in col_names:\n",
    "        W_list.append(comm_income[col].iloc[0][0])\n",
    "        B_list.append(comm_income[col].iloc[0][1])\n",
    "        L_list.append(comm_income[col].iloc[0][2])\n",
    "\n",
    "    W_list = np.array(W_list); B_list = np.array(B_list); L_list = np.array(L_list)\n",
    "    \n",
    "    temp_CoD_list = []\n",
    "    temp_median_income_list = []\n",
    "\n",
    "\n",
    "    # there are communities with certain racial population = 0\n",
    "    if np.sum(W_list) != 0:\n",
    "        W_percentage = W_list/np.sum(W_list)\n",
    "        W_cumulative_percentage = np.array([np.sum(W_percentage[:i+1]) for i in range(len(W_percentage))])\n",
    "\n",
    "        pars, _ = curve_fit(f = cumulative_gamma_dist, xdata = cf_ranges, ydata = W_cumulative_percentage[:-1], bounds = (-np.inf, np.inf))\n",
    "        \n",
    "        temp_CoD_list.append(Coef_of_Determination(W_cumulative_percentage[:-1], cumulative_gamma_dist(cf_ranges, pars[0], pars[1])))\n",
    "        temp_median_income_list.append(gamma.median(pars[0], scale=pars[1])*(ranges[-2] - ranges[0]) + ranges[0])\n",
    "    else:\n",
    "        temp_CoD_list.append(0)\n",
    "        temp_median_income_list.append(0)\n",
    "        \n",
    "    if np.sum(B_list) != 0:\n",
    "        B_percentage = B_list/np.sum(B_list)\n",
    "        B_cumulative_percentage = np.array([np.sum(B_percentage[:i+1]) for i in range(len(B_percentage))])\n",
    "\n",
    "        pars, _ = curve_fit(f = cumulative_gamma_dist, xdata = cf_ranges, ydata = B_cumulative_percentage[:-1], bounds = (-np.inf, np.inf))\n",
    "        \n",
    "        temp_CoD_list.append(Coef_of_Determination(B_cumulative_percentage[:-1], cumulative_gamma_dist(cf_ranges, pars[0], pars[1])))\n",
    "        temp_median_income_list.append(gamma.median(pars[0], scale=pars[1])*(ranges[-2] - ranges[0]) + ranges[0])\n",
    "    else:\n",
    "        temp_CoD_list.append(0)\n",
    "        temp_median_income_list.append(0)\n",
    "\n",
    "    if np.sum(L_list) != 0:\n",
    "        L_percentage = L_list/np.sum(L_list)\n",
    "        L_cumulative_percentage = np.array([np.sum(L_percentage[:i+1]) for i in range(len(L_percentage))])\n",
    "\n",
    "        pars, _ = curve_fit(f = cumulative_gamma_dist, xdata = cf_ranges, ydata = L_cumulative_percentage[:-1], bounds = (-np.inf, np.inf))\n",
    "        \n",
    "        temp_CoD_list.append(Coef_of_Determination(L_cumulative_percentage[:-1], cumulative_gamma_dist(cf_ranges, pars[0], pars[1])))\n",
    "        temp_median_income_list.append(gamma.median(pars[0], scale=pars[1])*(ranges[-2] - ranges[0]) + ranges[0])\n",
    "    else:\n",
    "        temp_CoD_list.append(0)\n",
    "        temp_median_income_list.append(0)\n",
    "\n",
    "    median_incomes_list.append(temp_median_income_list)\n",
    "    CoD_list.append(temp_CoD_list)\n",
    "\n",
    "# Mdeian Income Dataframe\n",
    "MI_df = pd.DataFrame(columns = ['Community', 'Median Income', 'Coefficient of Determination'])\n",
    "\n",
    "for idx, community in enumerate(communities):\n",
    "    MI_df.loc[idx] = np.array([community, median_incomes_list[idx], CoD_list[idx]], dtype = object)\n",
    "\n",
    "with open(path + 'median_income_gamma_dist.pickle', 'wb') as file:\n",
    "    pickle.dump(MI_df, file)"
   ]
  },
  {
   "cell_type": "code",
   "execution_count": 45,
   "metadata": {},
   "outputs": [
    {
     "data": {
      "text/html": [
       "<div>\n",
       "<style scoped>\n",
       "    .dataframe tbody tr th:only-of-type {\n",
       "        vertical-align: middle;\n",
       "    }\n",
       "\n",
       "    .dataframe tbody tr th {\n",
       "        vertical-align: top;\n",
       "    }\n",
       "\n",
       "    .dataframe thead th {\n",
       "        text-align: right;\n",
       "    }\n",
       "</style>\n",
       "<table border=\"1\" class=\"dataframe\">\n",
       "  <thead>\n",
       "    <tr style=\"text-align: right;\">\n",
       "      <th></th>\n",
       "      <th>Community</th>\n",
       "      <th>Median Income</th>\n",
       "      <th>Coefficient of Determination</th>\n",
       "    </tr>\n",
       "  </thead>\n",
       "  <tbody>\n",
       "    <tr>\n",
       "      <th>0</th>\n",
       "      <td>DOUGLAS</td>\n",
       "      <td>[34469.6939455719, 27864.888924710365, 34213.0...</td>\n",
       "      <td>[0.9434521605669437, 0.9355148844992411, 0.950...</td>\n",
       "    </tr>\n",
       "    <tr>\n",
       "      <th>1</th>\n",
       "      <td>OAKLAND</td>\n",
       "      <td>[34860.50849566266, 26937.633700037553, 29310....</td>\n",
       "      <td>[0.951313641414661, 0.9385083979704685, 0.9420...</td>\n",
       "    </tr>\n",
       "    <tr>\n",
       "      <th>2</th>\n",
       "      <td>FULLER PARK</td>\n",
       "      <td>[26903.502087768913, 22102.051008230752, 26097...</td>\n",
       "      <td>[0.9550925047643231, 0.9509172941325514, 0.969...</td>\n",
       "    </tr>\n",
       "    <tr>\n",
       "      <th>3</th>\n",
       "      <td>GRAND BOULEVARD</td>\n",
       "      <td>[36282.96125709824, 30450.841854185204, 29851....</td>\n",
       "      <td>[0.9549784632048307, 0.9587783982257574, 0.945...</td>\n",
       "    </tr>\n",
       "    <tr>\n",
       "      <th>4</th>\n",
       "      <td>KENWOOD</td>\n",
       "      <td>[43312.530341867234, 26127.75808211221, 40815....</td>\n",
       "      <td>[0.9808207148103042, 0.9487674869561132, 0.981...</td>\n",
       "    </tr>\n",
       "    <tr>\n",
       "      <th>...</th>\n",
       "      <td>...</td>\n",
       "      <td>...</td>\n",
       "      <td>...</td>\n",
       "    </tr>\n",
       "    <tr>\n",
       "      <th>72</th>\n",
       "      <td>MOUNT GREENWOOD</td>\n",
       "      <td>[93078.22875411273, 85833.436350363, 91928.231...</td>\n",
       "      <td>[0.9757085938582958, 0.9920691548997352, 0.970...</td>\n",
       "    </tr>\n",
       "    <tr>\n",
       "      <th>73</th>\n",
       "      <td>MORGAN PARK</td>\n",
       "      <td>[64975.431759763946, 42163.115418632864, 52236...</td>\n",
       "      <td>[0.991030405296049, 0.9798520914152271, 0.9864...</td>\n",
       "    </tr>\n",
       "    <tr>\n",
       "      <th>74</th>\n",
       "      <td>OHARE</td>\n",
       "      <td>[64975.431759763946, 42163.115418632864, 52236...</td>\n",
       "      <td>[0.991030405296049, 0.9798520914152271, 0.9864...</td>\n",
       "    </tr>\n",
       "    <tr>\n",
       "      <th>75</th>\n",
       "      <td>EDGEWATER</td>\n",
       "      <td>[53100.620721655396, 43346.94563681764, 51419....</td>\n",
       "      <td>[0.988328799421316, 0.9876388684469087, 0.9903...</td>\n",
       "    </tr>\n",
       "    <tr>\n",
       "      <th>76</th>\n",
       "      <td>EDISON PARK</td>\n",
       "      <td>[53100.620721655396, 43346.94563681764, 51419....</td>\n",
       "      <td>[0.988328799421316, 0.9876388684469087, 0.9903...</td>\n",
       "    </tr>\n",
       "  </tbody>\n",
       "</table>\n",
       "<p>77 rows × 3 columns</p>\n",
       "</div>"
      ],
      "text/plain": [
       "          Community                                      Median Income  \\\n",
       "0           DOUGLAS  [34469.6939455719, 27864.888924710365, 34213.0...   \n",
       "1           OAKLAND  [34860.50849566266, 26937.633700037553, 29310....   \n",
       "2       FULLER PARK  [26903.502087768913, 22102.051008230752, 26097...   \n",
       "3   GRAND BOULEVARD  [36282.96125709824, 30450.841854185204, 29851....   \n",
       "4           KENWOOD  [43312.530341867234, 26127.75808211221, 40815....   \n",
       "..              ...                                                ...   \n",
       "72  MOUNT GREENWOOD  [93078.22875411273, 85833.436350363, 91928.231...   \n",
       "73      MORGAN PARK  [64975.431759763946, 42163.115418632864, 52236...   \n",
       "74            OHARE  [64975.431759763946, 42163.115418632864, 52236...   \n",
       "75        EDGEWATER  [53100.620721655396, 43346.94563681764, 51419....   \n",
       "76      EDISON PARK  [53100.620721655396, 43346.94563681764, 51419....   \n",
       "\n",
       "                         Coefficient of Determination  \n",
       "0   [0.9434521605669437, 0.9355148844992411, 0.950...  \n",
       "1   [0.951313641414661, 0.9385083979704685, 0.9420...  \n",
       "2   [0.9550925047643231, 0.9509172941325514, 0.969...  \n",
       "3   [0.9549784632048307, 0.9587783982257574, 0.945...  \n",
       "4   [0.9808207148103042, 0.9487674869561132, 0.981...  \n",
       "..                                                ...  \n",
       "72  [0.9757085938582958, 0.9920691548997352, 0.970...  \n",
       "73  [0.991030405296049, 0.9798520914152271, 0.9864...  \n",
       "74  [0.991030405296049, 0.9798520914152271, 0.9864...  \n",
       "75  [0.988328799421316, 0.9876388684469087, 0.9903...  \n",
       "76  [0.988328799421316, 0.9876388684469087, 0.9903...  \n",
       "\n",
       "[77 rows x 3 columns]"
      ]
     },
     "execution_count": 45,
     "metadata": {},
     "output_type": "execute_result"
    }
   ],
   "source": [
    "MI_df"
   ]
  }
 ],
 "metadata": {
  "kernelspec": {
   "display_name": "tf_metal",
   "language": "python",
   "name": "tf25"
  },
  "language_info": {
   "codemirror_mode": {
    "name": "ipython",
    "version": 3
   },
   "file_extension": ".py",
   "mimetype": "text/x-python",
   "name": "python",
   "nbconvert_exporter": "python",
   "pygments_lexer": "ipython3",
   "version": "3.8.16"
  },
  "orig_nbformat": 4
 },
 "nbformat": 4,
 "nbformat_minor": 2
}
